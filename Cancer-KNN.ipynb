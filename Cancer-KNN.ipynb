{
 "cells": [
  {
   "cell_type": "markdown",
   "metadata": {},
   "source": [
    "# 0.5 - Self Implementation\n",
    "# 0.5 - SkLearn package"
   ]
  },
  {
   "cell_type": "code",
   "execution_count": 115,
   "metadata": {},
   "outputs": [],
   "source": [
    "import numpy as np\n",
    "import pandas as pd\n",
    "\n",
    "import torch\n",
    "from torch.autograd import Variable\n",
    "import torch.nn.functional as F\n",
    "from torch import nn\n",
    "\n",
    "import matplotlib.pyplot as plt\n",
    "%matplotlib inline\n",
    "import seaborn as sns\n",
    "\n",
    "import torch.utils.data as Data\n",
    "from sklearn import datasets\n",
    "import random \n",
    "import os\n",
    "from keras.layers import Dense, Convolution2D, UpSampling2D, MaxPooling2D, ZeroPadding2D, Flatten, Dropout, Reshape\n",
    "from keras.models import Sequential\n",
    "from keras.utils import np_utils\n"
   ]
  },
  {
   "cell_type": "code",
   "execution_count": 116,
   "metadata": {},
   "outputs": [
    {
     "data": {
      "text/plain": [
       "Index([u'Age', u'BMI', u'Glucose', u'Insulin', u'HOMA', u'Leptin',\n",
       "       u'Adiponectin', u'Resistin', u'MCP.1', u'Classification'],\n",
       "      dtype='object')"
      ]
     },
     "execution_count": 116,
     "metadata": {},
     "output_type": "execute_result"
    }
   ],
   "source": [
    "TempData=pd.read_csv('../data/Cancer/dataR2.csv')\n",
    "TempData.head()\n",
    "TempData.columns"
   ]
  },
  {
   "cell_type": "code",
   "execution_count": 117,
   "metadata": {},
   "outputs": [
    {
     "name": "stdout",
     "output_type": "stream",
     "text": [
      "[ 65.        32.05      97.         5.73       1.370998  61.48\n",
      "  22.54      10.33     314.05       2.      ]\n"
     ]
    }
   ],
   "source": [
    "d=np.asarray(TempData.values)\n",
    "np.random.shuffle(d)\n",
    "print d[1]\n",
    "head=\"Age,BMI,Glucose,Insulin,HOMA,Leptin,Adiponectin,Resistin,MCP.1,Classification\"\n",
    "np.savetxt(\"cancerData.csv\", d, delimiter=\",\",header=head)"
   ]
  },
  {
   "cell_type": "code",
   "execution_count": 126,
   "metadata": {},
   "outputs": [
    {
     "data": {
      "text/html": [
       "<div>\n",
       "<table border=\"1\" class=\"dataframe\">\n",
       "  <thead>\n",
       "    <tr style=\"text-align: right;\">\n",
       "      <th></th>\n",
       "      <th># Age</th>\n",
       "      <th>BMI</th>\n",
       "      <th>Glucose</th>\n",
       "      <th>Insulin</th>\n",
       "      <th>HOMA</th>\n",
       "      <th>Leptin</th>\n",
       "      <th>Adiponectin</th>\n",
       "      <th>Resistin</th>\n",
       "      <th>MCP.1</th>\n",
       "    </tr>\n",
       "  </thead>\n",
       "  <tbody>\n",
       "    <tr>\n",
       "      <th>0</th>\n",
       "      <td>69</td>\n",
       "      <td>28.444444</td>\n",
       "      <td>108</td>\n",
       "      <td>8.808</td>\n",
       "      <td>2.346451</td>\n",
       "      <td>14.7485</td>\n",
       "      <td>5.288025</td>\n",
       "      <td>16.48508</td>\n",
       "      <td>353.568</td>\n",
       "    </tr>\n",
       "    <tr>\n",
       "      <th>1</th>\n",
       "      <td>65</td>\n",
       "      <td>32.050000</td>\n",
       "      <td>97</td>\n",
       "      <td>5.730</td>\n",
       "      <td>1.370998</td>\n",
       "      <td>61.4800</td>\n",
       "      <td>22.540000</td>\n",
       "      <td>10.33000</td>\n",
       "      <td>314.050</td>\n",
       "    </tr>\n",
       "    <tr>\n",
       "      <th>2</th>\n",
       "      <td>34</td>\n",
       "      <td>31.975015</td>\n",
       "      <td>87</td>\n",
       "      <td>4.530</td>\n",
       "      <td>0.972138</td>\n",
       "      <td>28.7502</td>\n",
       "      <td>7.642760</td>\n",
       "      <td>5.62592</td>\n",
       "      <td>572.783</td>\n",
       "    </tr>\n",
       "    <tr>\n",
       "      <th>3</th>\n",
       "      <td>64</td>\n",
       "      <td>22.222222</td>\n",
       "      <td>98</td>\n",
       "      <td>5.700</td>\n",
       "      <td>1.377880</td>\n",
       "      <td>12.1905</td>\n",
       "      <td>4.783985</td>\n",
       "      <td>13.91245</td>\n",
       "      <td>395.976</td>\n",
       "    </tr>\n",
       "    <tr>\n",
       "      <th>4</th>\n",
       "      <td>52</td>\n",
       "      <td>30.801249</td>\n",
       "      <td>87</td>\n",
       "      <td>30.212</td>\n",
       "      <td>6.483495</td>\n",
       "      <td>29.2739</td>\n",
       "      <td>6.268540</td>\n",
       "      <td>24.24591</td>\n",
       "      <td>764.667</td>\n",
       "    </tr>\n",
       "  </tbody>\n",
       "</table>\n",
       "</div>"
      ],
      "text/plain": [
       "   # Age        BMI  Glucose  Insulin      HOMA   Leptin  Adiponectin  \\\n",
       "0     69  28.444444      108    8.808  2.346451  14.7485     5.288025   \n",
       "1     65  32.050000       97    5.730  1.370998  61.4800    22.540000   \n",
       "2     34  31.975015       87    4.530  0.972138  28.7502     7.642760   \n",
       "3     64  22.222222       98    5.700  1.377880  12.1905     4.783985   \n",
       "4     52  30.801249       87   30.212  6.483495  29.2739     6.268540   \n",
       "\n",
       "   Resistin    MCP.1  \n",
       "0  16.48508  353.568  \n",
       "1  10.33000  314.050  \n",
       "2   5.62592  572.783  \n",
       "3  13.91245  395.976  \n",
       "4  24.24591  764.667  "
      ]
     },
     "execution_count": 126,
     "metadata": {},
     "output_type": "execute_result"
    }
   ],
   "source": [
    "data=pd.read_csv('./cancerData.csv')\n",
    "data.head(1)\n",
    "dataVal=data.values\n",
    "type(data.loc[0][:9].values)\n",
    "labels=data['Classification']\n",
    "data=data.drop({'Classification'},axis=1)\n",
    "data.head()"
   ]
  },
  {
   "cell_type": "code",
   "execution_count": 119,
   "metadata": {},
   "outputs": [],
   "source": [
    "# leng=np.array(data.loc[115])\n",
    "# #print type(leng)\n",
    "# trains=[np.asarray(['Age' 'BMI' 'Glucose' 'Insulin'  'HOMA'  'Leptin'  \n",
    "#        'Adiponectin'  'Resistin'  'MCP.1'  'Classification'])]\n",
    "# for i in range(115):\n",
    "#     trains.append(np.asarray(data.loc[i]))\n",
    "\n",
    "# #print trains\n",
    "# np.savetxt(\"cancer.csv\", trains, delimiter=\",\")\n",
    "# cancer=pd.read_csv('./cancer.csv')\n",
    "# cancer.head()\n"
   ]
  },
  {
   "cell_type": "code",
   "execution_count": 154,
   "metadata": {},
   "outputs": [],
   "source": [
    "K=5"
   ]
  },
  {
   "cell_type": "code",
   "execution_count": 155,
   "metadata": {},
   "outputs": [],
   "source": [
    "#function which cal the distance btw 2 points\n",
    "def eucladiean_distance(v1,v2):\n",
    "    return np.sqrt(np.sum((v1-v2)**2))\n",
    "\n",
    "#loop to calc the distances from each point\n",
    "def KNNtemp(train,labels,test_x,k=K):\n",
    "    dist=[]\n",
    "    \n",
    "    for ix in range(len(train)): #loop runs for each row in train\n",
    "        d=eucladiean_distance(train[ix][:9],test_x)\n",
    "        #we add the distance as well as the lable to tell that this point belongs to which cluster\n",
    "        dist.append([d,ix,labels[ix]])\n",
    "    sorted_distances = sorted(dist,key=lambda x:x[0]) #returns a list\n",
    "    candidates = np.asarray(sorted_distances)[:k,-1] #the labes of the strting k rows are extracted\n",
    "    \n",
    "    freq=np.unique(candidates,return_counts=True) \n",
    "    #print freq[0]\n",
    "    index=np.argmax(freq[1])\n",
    "    print freq\n",
    "    return freq,index,sorted_distances\n",
    "\n",
    "def knn(train,labels,test_x):\n",
    "    freq,index,distances=KNNtemp(train,labels,test_x)\n",
    "    return freq[0][index]"
   ]
  },
  {
   "cell_type": "code",
   "execution_count": 156,
   "metadata": {},
   "outputs": [
    {
     "name": "stdout",
     "output_type": "stream",
     "text": [
      "92\n",
      "(92, 9)\n",
      "<class 'pandas.core.frame.DataFrame'>\n"
     ]
    }
   ],
   "source": [
    "ToTest=np.asarray([ 48. ,23.5 ,70.,2.707,0.46740867,8.8071,9.7024,7.99585,417.114])\n",
    "#ToTest=[ 75.,30.48,152.,7.01,2.62828267,50.53,0.06,11.73,99.45]\n",
    "split = int(0.8 * data.shape[0])\n",
    "# s=int(0.2 * data.shape[0])\n",
    "training_data = data[:split]\n",
    "training_label=labels[:split]\n",
    "testing_data = data[split:]\n",
    "testing_label=labels[split:]\n",
    "print split\n",
    "print training_data.shape\n",
    "print type(testing_data)\n"
   ]
  },
  {
   "cell_type": "code",
   "execution_count": 157,
   "metadata": {},
   "outputs": [
    {
     "name": "stdout",
     "output_type": "stream",
     "text": [
      "78.19941569630372\n",
      "********************\n",
      "(array([1., 2.]), array([1, 4]))\n"
     ]
    }
   ],
   "source": [
    "# print knn(trains[:][:9],trains[:1],ToTest)\n",
    "print eucladiean_distance(ToTest,training_data.loc[0][:9].values)\n",
    "print '*'*20\n",
    "freq,index,sorted_distances = KNNtemp(training_data.values,training_label.values,ToTest,K)\n",
    "# print freq\n",
    "# print index\n",
    "# print sorted_distances"
   ]
  },
  {
   "cell_type": "code",
   "execution_count": 158,
   "metadata": {},
   "outputs": [
    {
     "name": "stdout",
     "output_type": "stream",
     "text": [
      "(array([1., 2.]), array([1, 4]))\n",
      "2.0\n"
     ]
    }
   ],
   "source": [
    "print knn(training_data.values,training_label.values,ToTest)"
   ]
  },
  {
   "cell_type": "code",
   "execution_count": 159,
   "metadata": {},
   "outputs": [
    {
     "data": {
      "text/plain": [
       "2.0"
      ]
     },
     "execution_count": 159,
     "metadata": {},
     "output_type": "execute_result"
    }
   ],
   "source": [
    "(labels[1])"
   ]
  },
  {
   "cell_type": "code",
   "execution_count": 160,
   "metadata": {},
   "outputs": [
    {
     "name": "stdout",
     "output_type": "stream",
     "text": [
      "(array([1., 2.]), array([3, 2]))\n",
      "1.0  :  2.0\n",
      "(array([1., 2.]), array([2, 3]))\n",
      "2.0  :  2.0\n",
      "(array([1., 2.]), array([3, 2]))\n",
      "1.0  :  2.0\n",
      "(array([2.]), array([5]))\n",
      "2.0  :  1.0\n",
      "(array([1., 2.]), array([3, 2]))\n",
      "1.0  :  2.0\n",
      "(array([1., 2.]), array([2, 3]))\n",
      "2.0  :  1.0\n",
      "(array([1., 2.]), array([2, 3]))\n",
      "2.0  :  2.0\n",
      "(array([1., 2.]), array([2, 3]))\n",
      "2.0  :  1.0\n",
      "(array([1., 2.]), array([2, 3]))\n",
      "2.0  :  2.0\n",
      "(array([1., 2.]), array([1, 4]))\n",
      "2.0  :  2.0\n",
      "(array([1., 2.]), array([3, 2]))\n",
      "1.0  :  2.0\n",
      "(array([1., 2.]), array([2, 3]))\n",
      "2.0  :  2.0\n",
      "(array([1., 2.]), array([3, 2]))\n",
      "1.0  :  1.0\n",
      "(array([1., 2.]), array([1, 4]))\n",
      "2.0  :  1.0\n",
      "(array([1., 2.]), array([1, 4]))\n",
      "2.0  :  2.0\n",
      "(array([1., 2.]), array([3, 2]))\n",
      "1.0  :  1.0\n",
      "(array([1., 2.]), array([4, 1]))\n",
      "1.0  :  1.0\n",
      "(array([1., 2.]), array([2, 3]))\n",
      "2.0  :  2.0\n",
      "(array([1., 2.]), array([1, 4]))\n",
      "2.0  :  1.0\n",
      "(array([1., 2.]), array([1, 4]))\n",
      "2.0  :  1.0\n",
      "(array([1., 2.]), array([2, 3]))\n",
      "2.0  :  2.0\n",
      "(array([1., 2.]), array([3, 2]))\n",
      "1.0  :  2.0\n",
      "(array([1., 2.]), array([2, 3]))\n",
      "2.0  :  1.0\n",
      "(array([1., 2.]), array([1, 4]))\n",
      "2.0  :  2.0\n"
     ]
    }
   ],
   "source": [
    "loc=0\n",
    "accuracy=0\n",
    "for i in testing_data.values:\n",
    "    pred=knn(training_data.values,training_label.values,i)\n",
    "    actual=testing_label.values[loc]\n",
    "    print pred,\" : \",actual\n",
    "    if pred==actual:\n",
    "        accuracy+=1\n",
    "    loc+=1"
   ]
  },
  {
   "cell_type": "code",
   "execution_count": 161,
   "metadata": {},
   "outputs": [
    {
     "name": "stdout",
     "output_type": "stream",
     "text": [
      "0.5\n"
     ]
    }
   ],
   "source": [
    "print accuracy/float(testing_data.shape[0])"
   ]
  },
  {
   "cell_type": "code",
   "execution_count": 162,
   "metadata": {},
   "outputs": [],
   "source": [
    "import sklearn\n",
    "from sklearn.tree import DecisionTreeClassifier\n",
    "from sklearn.ensemble import RandomForestClassifier"
   ]
  },
  {
   "cell_type": "code",
   "execution_count": 163,
   "metadata": {},
   "outputs": [],
   "source": [
    "from sklearn.neighbors import KNeighborsClassifier"
   ]
  },
  {
   "cell_type": "code",
   "execution_count": 175,
   "metadata": {},
   "outputs": [
    {
     "data": {
      "text/plain": [
       "KNeighborsClassifier(algorithm='auto', leaf_size=30, metric='minkowski',\n",
       "           metric_params=None, n_jobs=1, n_neighbors=5, p=2,\n",
       "           weights='uniform')"
      ]
     },
     "execution_count": 175,
     "metadata": {},
     "output_type": "execute_result"
    }
   ],
   "source": [
    "KNN=KNeighborsClassifier()\n",
    "KNN.fit(training_data,training_label)"
   ]
  },
  {
   "cell_type": "code",
   "execution_count": 176,
   "metadata": {},
   "outputs": [
    {
     "data": {
      "text/plain": [
       "0.5"
      ]
     },
     "execution_count": 176,
     "metadata": {},
     "output_type": "execute_result"
    }
   ],
   "source": [
    "KNN.score(testing_data,testing_label)"
   ]
  },
  {
   "cell_type": "code",
   "execution_count": null,
   "metadata": {},
   "outputs": [],
   "source": []
  }
 ],
 "metadata": {
  "kernelspec": {
   "display_name": "Python 2",
   "language": "python",
   "name": "python2"
  },
  "language_info": {
   "codemirror_mode": {
    "name": "ipython",
    "version": 2
   },
   "file_extension": ".py",
   "mimetype": "text/x-python",
   "name": "python",
   "nbconvert_exporter": "python",
   "pygments_lexer": "ipython2",
   "version": "2.7.12"
  }
 },
 "nbformat": 4,
 "nbformat_minor": 2
}
